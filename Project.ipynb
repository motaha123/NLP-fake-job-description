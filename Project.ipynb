{
 "cells": [
  {
   "cell_type": "code",
   "execution_count": 22,
   "metadata": {},
   "outputs": [
    {
     "name": "stderr",
     "output_type": "stream",
     "text": [
      "[nltk_data] Downloading package stopwords to\n",
      "[nltk_data]     C:\\Users\\Lenovo\\AppData\\Roaming\\nltk_data...\n",
      "[nltk_data]   Package stopwords is already up-to-date!\n",
      "[nltk_data] Downloading package punkt to\n",
      "[nltk_data]     C:\\Users\\Lenovo\\AppData\\Roaming\\nltk_data...\n",
      "[nltk_data]   Package punkt is already up-to-date!\n",
      "[nltk_data] Downloading package wordnet to\n",
      "[nltk_data]     C:\\Users\\Lenovo\\AppData\\Roaming\\nltk_data...\n",
      "[nltk_data]   Package wordnet is already up-to-date!\n"
     ]
    }
   ],
   "source": [
    "import pandas as pd\n",
    "import numpy as np\n",
    "import seaborn as sb\n",
    "import matplotlib.pyplot as plt\n",
    "from sklearn.feature_extraction.text import CountVectorizer\n",
    "import plotly.express as px\n",
    "from wordcloud import WordCloud, STOPWORDS, ImageColorGenerator\n",
    "import re\n",
    "import nltk\n",
    "from nltk.corpus import stopwords\n",
    "import nltk as nlp\n",
    "from sklearn.feature_extraction.text import CountVectorizer\n",
    "from sklearn.model_selection import train_test_split\n",
    "from sklearn.svm import SVC\n",
    "from sklearn.naive_bayes import GaussianNB\n",
    "from sklearn.neighbors import KNeighborsClassifier\n",
    "from sklearn.tree import DecisionTreeClassifier\n",
    "from sklearn.metrics import r2_score\n",
    "from sklearn.metrics import confusion_matrix, classification_report\n",
    "from sklearn.metrics import accuracy_score, f1_score, recall_score, precision_score\n",
    "from sklearn.ensemble import RandomForestClassifier\n",
    "from sklearn.model_selection import GridSearchCV\n",
    "from sklearn.linear_model import LogisticRegression\n",
    "from sklearn.metrics import explained_variance_score\n",
    "import tensorflow as tf\n",
    "from tensorflow.keras.models import Sequential\n",
    "from tensorflow.keras.layers import Dense, Activation, Dropout\n",
    "from keras.layers import LSTM\n",
    "from tensorflow.keras.layers import Embedding,  Bidirectional\n",
    "from tensorflow.keras.preprocessing.sequence import pad_sequences\n",
    "from nltk.tokenize import word_tokenize\n",
    "import warnings\n",
    "warnings.filterwarnings(\"ignore\")\n",
    "import nltk\n",
    "from nltk.stem import WordNetLemmatizer\n",
    "# Ensure NLTK resources are downloaded\n",
    "nltk.download('stopwords')\n",
    "nltk.download('punkt')\n",
    "nltk.download('wordnet')\n",
    "from tensorflow.keras.preprocessing.text import one_hot, Tokenizer\n",
    "import joblib\n"
   ]
  },
  {
   "cell_type": "code",
   "execution_count": 23,
   "metadata": {},
   "outputs": [
    {
     "data": {
      "text/html": [
       "<div>\n",
       "<style scoped>\n",
       "    .dataframe tbody tr th:only-of-type {\n",
       "        vertical-align: middle;\n",
       "    }\n",
       "\n",
       "    .dataframe tbody tr th {\n",
       "        vertical-align: top;\n",
       "    }\n",
       "\n",
       "    .dataframe thead th {\n",
       "        text-align: right;\n",
       "    }\n",
       "</style>\n",
       "<table border=\"1\" class=\"dataframe\">\n",
       "  <thead>\n",
       "    <tr style=\"text-align: right;\">\n",
       "      <th></th>\n",
       "      <th>job_id</th>\n",
       "      <th>title</th>\n",
       "      <th>location</th>\n",
       "      <th>department</th>\n",
       "      <th>salary_range</th>\n",
       "      <th>company_profile</th>\n",
       "      <th>description</th>\n",
       "      <th>requirements</th>\n",
       "      <th>benefits</th>\n",
       "      <th>telecommuting</th>\n",
       "      <th>has_company_logo</th>\n",
       "      <th>has_questions</th>\n",
       "      <th>employment_type</th>\n",
       "      <th>required_experience</th>\n",
       "      <th>required_education</th>\n",
       "      <th>industry</th>\n",
       "      <th>function</th>\n",
       "      <th>fraudulent</th>\n",
       "    </tr>\n",
       "  </thead>\n",
       "  <tbody>\n",
       "    <tr>\n",
       "      <th>0</th>\n",
       "      <td>1</td>\n",
       "      <td>Marketing Intern</td>\n",
       "      <td>US, NY, New York</td>\n",
       "      <td>Marketing</td>\n",
       "      <td>NaN</td>\n",
       "      <td>We're Food52, and we've created a groundbreaki...</td>\n",
       "      <td>Food52, a fast-growing, James Beard Award-winn...</td>\n",
       "      <td>Experience with content management systems a m...</td>\n",
       "      <td>NaN</td>\n",
       "      <td>0</td>\n",
       "      <td>1</td>\n",
       "      <td>0</td>\n",
       "      <td>Other</td>\n",
       "      <td>Internship</td>\n",
       "      <td>NaN</td>\n",
       "      <td>NaN</td>\n",
       "      <td>Marketing</td>\n",
       "      <td>0</td>\n",
       "    </tr>\n",
       "    <tr>\n",
       "      <th>1</th>\n",
       "      <td>2</td>\n",
       "      <td>Customer Service - Cloud Video Production</td>\n",
       "      <td>NZ, , Auckland</td>\n",
       "      <td>Success</td>\n",
       "      <td>NaN</td>\n",
       "      <td>90 Seconds, the worlds Cloud Video Production ...</td>\n",
       "      <td>Organised - Focused - Vibrant - Awesome!Do you...</td>\n",
       "      <td>What we expect from you:Your key responsibilit...</td>\n",
       "      <td>What you will get from usThrough being part of...</td>\n",
       "      <td>0</td>\n",
       "      <td>1</td>\n",
       "      <td>0</td>\n",
       "      <td>Full-time</td>\n",
       "      <td>Not Applicable</td>\n",
       "      <td>NaN</td>\n",
       "      <td>Marketing and Advertising</td>\n",
       "      <td>Customer Service</td>\n",
       "      <td>0</td>\n",
       "    </tr>\n",
       "    <tr>\n",
       "      <th>2</th>\n",
       "      <td>3</td>\n",
       "      <td>Commissioning Machinery Assistant (CMA)</td>\n",
       "      <td>US, IA, Wever</td>\n",
       "      <td>NaN</td>\n",
       "      <td>NaN</td>\n",
       "      <td>Valor Services provides Workforce Solutions th...</td>\n",
       "      <td>Our client, located in Houston, is actively se...</td>\n",
       "      <td>Implement pre-commissioning and commissioning ...</td>\n",
       "      <td>NaN</td>\n",
       "      <td>0</td>\n",
       "      <td>1</td>\n",
       "      <td>0</td>\n",
       "      <td>NaN</td>\n",
       "      <td>NaN</td>\n",
       "      <td>NaN</td>\n",
       "      <td>NaN</td>\n",
       "      <td>NaN</td>\n",
       "      <td>0</td>\n",
       "    </tr>\n",
       "  </tbody>\n",
       "</table>\n",
       "</div>"
      ],
      "text/plain": [
       "   job_id                                      title          location  \\\n",
       "0       1                           Marketing Intern  US, NY, New York   \n",
       "1       2  Customer Service - Cloud Video Production    NZ, , Auckland   \n",
       "2       3    Commissioning Machinery Assistant (CMA)     US, IA, Wever   \n",
       "\n",
       "  department salary_range                                    company_profile  \\\n",
       "0  Marketing          NaN  We're Food52, and we've created a groundbreaki...   \n",
       "1    Success          NaN  90 Seconds, the worlds Cloud Video Production ...   \n",
       "2        NaN          NaN  Valor Services provides Workforce Solutions th...   \n",
       "\n",
       "                                         description  \\\n",
       "0  Food52, a fast-growing, James Beard Award-winn...   \n",
       "1  Organised - Focused - Vibrant - Awesome!Do you...   \n",
       "2  Our client, located in Houston, is actively se...   \n",
       "\n",
       "                                        requirements  \\\n",
       "0  Experience with content management systems a m...   \n",
       "1  What we expect from you:Your key responsibilit...   \n",
       "2  Implement pre-commissioning and commissioning ...   \n",
       "\n",
       "                                            benefits  telecommuting  \\\n",
       "0                                                NaN              0   \n",
       "1  What you will get from usThrough being part of...              0   \n",
       "2                                                NaN              0   \n",
       "\n",
       "   has_company_logo  has_questions employment_type required_experience  \\\n",
       "0                 1              0           Other          Internship   \n",
       "1                 1              0       Full-time      Not Applicable   \n",
       "2                 1              0             NaN                 NaN   \n",
       "\n",
       "  required_education                   industry          function  fraudulent  \n",
       "0                NaN                        NaN         Marketing           0  \n",
       "1                NaN  Marketing and Advertising  Customer Service           0  \n",
       "2                NaN                        NaN               NaN           0  "
      ]
     },
     "execution_count": 23,
     "metadata": {},
     "output_type": "execute_result"
    }
   ],
   "source": [
    "#getting the data and show the first 5 rows\n",
    "nlp_data = pd.read_csv(\"fake_job_postings.csv\")\n",
    "nlp_data.head(3)"
   ]
  },
  {
   "cell_type": "code",
   "execution_count": 24,
   "metadata": {},
   "outputs": [
    {
     "name": "stdout",
     "output_type": "stream",
     "text": [
      "<class 'pandas.core.frame.DataFrame'>\n",
      "RangeIndex: 17880 entries, 0 to 17879\n",
      "Data columns (total 18 columns):\n",
      " #   Column               Non-Null Count  Dtype \n",
      "---  ------               --------------  ----- \n",
      " 0   job_id               17880 non-null  int64 \n",
      " 1   title                17880 non-null  object\n",
      " 2   location             17534 non-null  object\n",
      " 3   department           6333 non-null   object\n",
      " 4   salary_range         2868 non-null   object\n",
      " 5   company_profile      14572 non-null  object\n",
      " 6   description          17879 non-null  object\n",
      " 7   requirements         15184 non-null  object\n",
      " 8   benefits             10668 non-null  object\n",
      " 9   telecommuting        17880 non-null  int64 \n",
      " 10  has_company_logo     17880 non-null  int64 \n",
      " 11  has_questions        17880 non-null  int64 \n",
      " 12  employment_type      14409 non-null  object\n",
      " 13  required_experience  10830 non-null  object\n",
      " 14  required_education   9775 non-null   object\n",
      " 15  industry             12977 non-null  object\n",
      " 16  function             11425 non-null  object\n",
      " 17  fraudulent           17880 non-null  int64 \n",
      "dtypes: int64(5), object(13)\n",
      "memory usage: 2.5+ MB\n"
     ]
    }
   ],
   "source": [
    "#show some the information about the data\n",
    "nlp_data.info()"
   ]
  },
  {
   "cell_type": "code",
   "execution_count": 25,
   "metadata": {},
   "outputs": [
    {
     "data": {
      "text/plain": [
       "job_id                     0\n",
       "title                      0\n",
       "location                 346\n",
       "department             11547\n",
       "salary_range           15012\n",
       "company_profile         3308\n",
       "description                1\n",
       "requirements            2696\n",
       "benefits                7212\n",
       "telecommuting              0\n",
       "has_company_logo           0\n",
       "has_questions              0\n",
       "employment_type         3471\n",
       "required_experience     7050\n",
       "required_education      8105\n",
       "industry                4903\n",
       "function                6455\n",
       "fraudulent                 0\n",
       "dtype: int64"
      ]
     },
     "execution_count": 25,
     "metadata": {},
     "output_type": "execute_result"
    }
   ],
   "source": [
    "# identifying which columns contain missing data and how much missing data there is\n",
    "nlp_data.isna().sum()"
   ]
  },
  {
   "cell_type": "code",
   "execution_count": 26,
   "metadata": {},
   "outputs": [
    {
     "data": {
      "text/plain": [
       "title\n",
       "English Teacher Abroad                                         311\n",
       "Customer Service Associate                                     146\n",
       "Graduates: English Teacher Abroad (Conversational)             144\n",
       "English Teacher Abroad                                          95\n",
       "Software Engineer                                               86\n",
       "                                                              ... \n",
       "West Coast Regional Channel Manager (RCM)                        1\n",
       "BI Practice Manager                                              1\n",
       "Community Coordinator- Ambassador Programme                      1\n",
       "Senior Traffic Engineer                                          1\n",
       "Project Cost Control Staff Engineer - Cost Control Exp - TX      1\n",
       "Name: count, Length: 11231, dtype: int64"
      ]
     },
     "execution_count": 26,
     "metadata": {},
     "output_type": "execute_result"
    }
   ],
   "source": [
    "nlp_data.title.value_counts()"
   ]
  },
  {
   "cell_type": "code",
   "execution_count": 27,
   "metadata": {},
   "outputs": [
    {
     "data": {
      "text/plain": [
       "location\n",
       "GB, LND, London          718\n",
       "US, NY, New York         658\n",
       "US, CA, San Francisco    472\n",
       "GR, I, Athens            464\n",
       "US, ,                    339\n",
       "                        ... \n",
       "GB, SFK, Leiston           1\n",
       "GB, LND, Hammersmith       1\n",
       "US, WA, Seattle            1\n",
       "BE                         1\n",
       "GB, WSX, Chichester        1\n",
       "Name: count, Length: 3105, dtype: int64"
      ]
     },
     "execution_count": 27,
     "metadata": {},
     "output_type": "execute_result"
    }
   ],
   "source": [
    "nlp_data.location.value_counts()"
   ]
  },
  {
   "cell_type": "code",
   "execution_count": 28,
   "metadata": {},
   "outputs": [
    {
     "data": {
      "text/plain": [
       "department\n",
       "Sales                                          551\n",
       "Engineering                                    487\n",
       "Marketing                                      401\n",
       "Operations                                     270\n",
       "IT                                             225\n",
       "                                              ... \n",
       "Commercial Management / Contract Management      1\n",
       "Exec                                             1\n",
       "Marcomm                                          1\n",
       "CRM                                              1\n",
       "Hospitality                                      1\n",
       "Name: count, Length: 1337, dtype: int64"
      ]
     },
     "execution_count": 28,
     "metadata": {},
     "output_type": "execute_result"
    }
   ],
   "source": [
    "nlp_data.department.value_counts()"
   ]
  },
  {
   "cell_type": "code",
   "execution_count": 29,
   "metadata": {},
   "outputs": [
    {
     "data": {
      "text/plain": [
       "salary_range\n",
       "0-0            142\n",
       "40000-50000     66\n",
       "30000-40000     55\n",
       "25000-30000     37\n",
       "45000-67000     37\n",
       "              ... \n",
       "15-25            1\n",
       "60-75            1\n",
       "27500-36000      1\n",
       "20-22            1\n",
       "3700-3800        1\n",
       "Name: count, Length: 874, dtype: int64"
      ]
     },
     "execution_count": 29,
     "metadata": {},
     "output_type": "execute_result"
    }
   ],
   "source": [
    "nlp_data.salary_range.value_counts()"
   ]
  },
  {
   "cell_type": "code",
   "execution_count": 30,
   "metadata": {},
   "outputs": [
    {
     "data": {
      "text/plain": [
       "function\n",
       "Information Technology    1749\n",
       "Sales                     1468\n",
       "Engineering               1348\n",
       "Customer Service          1229\n",
       "Marketing                  830\n",
       "Administrative             630\n",
       "Design                     340\n",
       "Health Care Provider       338\n",
       "Other                      325\n",
       "Education                  325\n",
       "Management                 317\n",
       "Business Development       228\n",
       "Accounting/Auditing        212\n",
       "Human Resources            205\n",
       "Project Management         183\n",
       "Finance                    172\n",
       "Consulting                 144\n",
       "Writing/Editing            132\n",
       "Art/Creative               132\n",
       "Production                 116\n",
       "Product Management         114\n",
       "Quality Assurance          111\n",
       "Advertising                 90\n",
       "Business Analyst            84\n",
       "Data Analyst                82\n",
       "Public Relations            76\n",
       "Manufacturing               74\n",
       "General Business            68\n",
       "Research                    50\n",
       "Legal                       47\n",
       "Strategy/Planning           46\n",
       "Training                    38\n",
       "Supply Chain                36\n",
       "Financial Analyst           33\n",
       "Distribution                24\n",
       "Purchasing                  15\n",
       "Science                     14\n",
       "Name: count, dtype: int64"
      ]
     },
     "execution_count": 30,
     "metadata": {},
     "output_type": "execute_result"
    }
   ],
   "source": [
    "nlp_data.function.value_counts()"
   ]
  },
  {
   "cell_type": "code",
   "execution_count": 31,
   "metadata": {},
   "outputs": [
    {
     "data": {
      "text/plain": [
       "pandas.core.series.Series"
      ]
     },
     "execution_count": 31,
     "metadata": {},
     "output_type": "execute_result"
    }
   ],
   "source": [
    "type(nlp_data.title)"
   ]
  },
  {
   "cell_type": "code",
   "execution_count": 32,
   "metadata": {},
   "outputs": [
    {
     "data": {
      "text/plain": [
       "title\n",
       "English Teacher Abroad                                         311\n",
       "Customer Service Associate                                     146\n",
       "Graduates: English Teacher Abroad (Conversational)             144\n",
       "English Teacher Abroad                                          95\n",
       "Software Engineer                                               86\n",
       "                                                              ... \n",
       "West Coast Regional Channel Manager (RCM)                        1\n",
       "BI Practice Manager                                              1\n",
       "Community Coordinator- Ambassador Programme                      1\n",
       "Senior Traffic Engineer                                          1\n",
       "Project Cost Control Staff Engineer - Cost Control Exp - TX      1\n",
       "Name: count, Length: 11231, dtype: int64"
      ]
     },
     "execution_count": 32,
     "metadata": {},
     "output_type": "execute_result"
    }
   ],
   "source": [
    "title_series = pd.Series(nlp_data.title)\n",
    "title_series.value_counts()"
   ]
  },
  {
   "cell_type": "code",
   "execution_count": 33,
   "metadata": {},
   "outputs": [],
   "source": [
    "nlp_data = pd.DataFrame(nlp_data)"
   ]
  },
  {
   "cell_type": "code",
   "execution_count": 34,
   "metadata": {},
   "outputs": [
    {
     "data": {
      "image/png": "[encoded data removed]",
      "text/plain": [
       "<Figure size 1000x500 with 1 Axes>"
      ]
     },
     "metadata": {},
     "output_type": "display_data"
    }
   ],
   "source": [
    "#Visualization Fraudelent vs Real\n",
    "labels = ['Real', 'Fraudulent']\n",
    "plt.figure(figsize=(10, 5))\n",
    "ax = sb.countplot(x=\"fraudulent\", palette=[\"blue\", \"red\"], data=nlp_data)\n",
    "\n",
    "# Add labels to the bars\n",
    "for p, label in zip(ax.patches, labels * len(ax.patches)):\n",
    "    ax.annotate(label, (p.get_x() + p.get_width() / 2., p.get_height()), ha='center', va='center', xytext=(0, 10), textcoords='offset points')\n",
    "\n",
    "plt.title(\"Number of Real and Fake Posts\", fontsize=14)\n",
    "plt.ylabel(\"Count\", fontsize=14)\n",
    "plt.xlabel('Real or Fraudulent', fontsize=14)\n",
    "plt.show()"
   ]
  },
  {
   "cell_type": "code",
   "execution_count": 35,
   "metadata": {},
   "outputs": [
    {
     "data": {
      "image/png": "[encoded data removed]",
      "text/plain": [
       "<Figure size 1000x500 with 1 Axes>"
      ]
     },
     "metadata": {},
     "output_type": "display_data"
    }
   ],
   "source": [
    "#Visualization Title Feature\n",
    "title = nlp_data.title.value_counts()[:5]\n",
    "plt.figure(figsize = (10,5))\n",
    "sb.barplot(x = title.index, y = title )\n",
    "plt.title(\"Most Common Title of Posts\", fontdict = {\"fontsize\" : 14})\n",
    "plt.xlabel(\"Title\", fontdict = {\"fontsize\" : 14})\n",
    "plt.ylabel(\"Count\", fontdict = {\"fontsize\" : 14})\n",
    "plt.xticks(rotation=90);"
   ]
  },
  {
   "cell_type": "code",
   "execution_count": 36,
   "metadata": {},
   "outputs": [
    {
     "data": {
      "image/png": "[encoded data removed]",
      "text/plain": [
       "<Figure size 1000x500 with 1 Axes>"
      ]
     },
     "metadata": {},
     "output_type": "display_data"
    }
   ],
   "source": [
    "# Visualization Location Feature\n",
    "location = nlp_data.location.value_counts()[:5]\n",
    "plt.figure(figsize = (10,5))\n",
    "sb.barplot(x = location.index, y = location, )\n",
    "plt.title(\"Most Common Location of Posts\", fontdict = {\"fontsize\" : 14})\n",
    "plt.xlabel(\"Location\", fontdict = {\"fontsize\" : 14})\n",
    "plt.ylabel(\"Count\", fontdict = {\"fontsize\" : 14})\n",
    "plt.xticks(rotation=90);"
   ]
  },
  {
   "cell_type": "code",
   "execution_count": 37,
   "metadata": {},
   "outputs": [
    {
     "data": {
      "image/png": "[encoded data removed]",
      "text/plain": [
       "<Figure size 1000x500 with 1 Axes>"
      ]
     },
     "metadata": {},
     "output_type": "display_data"
    }
   ],
   "source": [
    "# Visualization Employment Type\n",
    "employment_type = nlp_data.employment_type.value_counts()\n",
    "plt.figure(figsize = (10,5))\n",
    "sb.barplot(x = employment_type.index, y = employment_type)\n",
    "plt.title(\"Employment Type\", fontdict = {\"fontsize\" : 14})\n",
    "plt.xlabel(\"Employment Type\", fontdict = {\"fontsize\" : 14})\n",
    "plt.ylabel(\"Number of Has Questions vs Fake Posts \", fontdict = {\"fontsize\" : 12})\n",
    "plt.xticks(rotation = 45);"
   ]
  },
  {
   "cell_type": "code",
   "execution_count": 38,
   "metadata": {},
   "outputs": [
    {
     "name": "stdout",
     "output_type": "stream",
     "text": [
      "<class 'pandas.core.frame.DataFrame'>\n",
      "RangeIndex: 17880 entries, 0 to 17879\n",
      "Data columns (total 18 columns):\n",
      " #   Column               Non-Null Count  Dtype \n",
      "---  ------               --------------  ----- \n",
      " 0   job_id               17880 non-null  int64 \n",
      " 1   title                17880 non-null  object\n",
      " 2   location             17534 non-null  object\n",
      " 3   department           6333 non-null   object\n",
      " 4   salary_range         2868 non-null   object\n",
      " 5   company_profile      14572 non-null  object\n",
      " 6   description          17879 non-null  object\n",
      " 7   requirements         15184 non-null  object\n",
      " 8   benefits             10668 non-null  object\n",
      " 9   telecommuting        17880 non-null  int64 \n",
      " 10  has_company_logo     17880 non-null  int64 \n",
      " 11  has_questions        17880 non-null  int64 \n",
      " 12  employment_type      14409 non-null  object\n",
      " 13  required_experience  10830 non-null  object\n",
      " 14  required_education   9775 non-null   object\n",
      " 15  industry             12977 non-null  object\n",
      " 16  function             11425 non-null  object\n",
      " 17  fraudulent           17880 non-null  int64 \n",
      "dtypes: int64(5), object(13)\n",
      "memory usage: 2.5+ MB\n"
     ]
    }
   ],
   "source": [
    "nlp_data.info()"
   ]
  },
  {
   "cell_type": "code",
   "execution_count": 39,
   "metadata": {},
   "outputs": [],
   "source": [
    "nlp_data.fillna(\" \", inplace = True)       "
   ]
  },
  {
   "cell_type": "code",
   "execution_count": 41,
   "metadata": {},
   "outputs": [],
   "source": [
    "def extract_feature(data):\n",
    "    #Combine all text in a feaure\n",
    "    new_nlp_data = data\n",
    "    new_nlp_data['str_information'] = data['title'] + \" \" + data['department'] + \\\n",
    "             \" \" + data['company_profile'] + \" \" + \\\n",
    "             data['description'] + \" \" + \\\n",
    "             data['requirements'] + \" \" +\\\n",
    "             data['benefits'] + \" \" +\\\n",
    "             data['function'] + \" \" +\\\n",
    "             data['required_experience']+ \" \"+\\\n",
    "             data[\"required_education\"]+ \" \" +\\\n",
    "             data[\"industry\"]\n",
    "             \n",
    "    \n",
    "    # drop unnecessary\n",
    "    new_nlp_data.drop(columns=['title', 'department', 'company_profile', 'description', 'requirements', 'benefits', 'function', 'required_experience', 'required_education', 'industry'], inplace=True)\n",
    "        \n",
    "    # initialize the WordNetLemmatizer\n",
    "    lemma = WordNetLemmatizer()\n",
    "\n",
    "    # contractions mapping dictionary\n",
    "    contractions = {\n",
    "                \"ain't\": \"am not\",\n",
    "                \"aren't\": \"are not\",\n",
    "                \"can't\": \"cannot\",\n",
    "                \"can't've\": \"cannot have\",\n",
    "                \"'cause\": \"because\",\n",
    "                \"could've\": \"could have\",\n",
    "                \"couldn't\": \"could not\",\n",
    "                \"couldn't've\": \"could not have\",\n",
    "                \"didn't\": \"did not\",\n",
    "                \"doesn't\": \"does not\",\n",
    "                \"don't\": \"do not\",\n",
    "                \"hadn't\": \"had not\",\n",
    "                \"hadn't've\": \"had not have\",\n",
    "                \"hasn't\": \"has not\",\n",
    "                \"haven't\": \"have not\",\n",
    "                \"he'd\": \"he had / he would\",\n",
    "                \"he'd've\": \"he would have\",\n",
    "                \"he'll\": \"he shall / he will\",\n",
    "                \"he'll've\": \"he shall have / he will have\",\n",
    "                \"he's\": \"he has / he is\",\n",
    "                \"how'd\": \"how did\",\n",
    "                \"how'd'y\": \"how do you\",\n",
    "                \"how'll\": \"how will\",\n",
    "                \"how's\": \"how has / how is / how does\",\n",
    "                \"I'd\": \"I had / I would\",\n",
    "                \"I'd've\": \"I would have\",\n",
    "                \"I'll\": \"I shall / I will\",\n",
    "                \"I'll've\": \"I shall have / I will have\",\n",
    "                \"I'm\": \"I am\",\n",
    "                \"I've\": \"I have\",\n",
    "                \"isn't\": \"is not\",\n",
    "                \"it'd\": \"it had / it would\",\n",
    "                \"it'd've\": \"it would have\",\n",
    "                \"it'll\": \"it shall / it will\",\n",
    "                \"it'll've\": \"it shall have / it will have\",\n",
    "                \"it's\": \"it has / it is\",\n",
    "                \"let's\": \"let us\",\n",
    "                \"ma'am\": \"madam\",\n",
    "                \"mayn't\": \"may not\",\n",
    "                \"might've\": \"might have\",\n",
    "                \"mightn't\": \"might not\",\n",
    "                \"mightn't've\": \"might not have\",\n",
    "                \"must've\": \"must have\",\n",
    "                \"mustn't\": \"must not\",\n",
    "                \"mustn't've\": \"must not have\",\n",
    "                \"needn't\": \"need not\",\n",
    "                \"needn't've\": \"need not have\",\n",
    "                \"o'clock\": \"of the clock\",\n",
    "                \"oughtn't\": \"ought not\",\n",
    "                \"oughtn't've\": \"ought not have\",\n",
    "                \"shan't\": \"shall not\",\n",
    "                \"sha'n't\": \"shall not\",\n",
    "                \"shan't've\": \"shall not have\",\n",
    "                \"she'd\": \"she had / she would\",\n",
    "                \"she'd've\": \"she would have\",\n",
    "                \"she'll\": \"she shall / she will\",\n",
    "                \"she'll've\": \"she shall have / she will have\",\n",
    "                \"she's\": \"she has / she is\",\n",
    "                \"should've\": \"should have\",\n",
    "                \"shouldn't\": \"should not\",\n",
    "                \"shouldn't've\": \"should not have\",\n",
    "                \"so've\": \"so have\",\n",
    "                \"so's\": \"so as / so is\",\n",
    "                \"that'd\": \"that would / that had\",\n",
    "                \"that'd've\": \"that would have\",\n",
    "                \"that's\": \"that has / that is\",\n",
    "                \"there'd\": \"there had / there would\",\n",
    "                \"there'd've\": \"there would have\",\n",
    "                \"there's\": \"there has / there is\",\n",
    "                \"they'd\": \"they had / they would\",\n",
    "                \"they'd've\": \"they would have\",\n",
    "                \"they'll\": \"they shall / they will\",\n",
    "                \"they'll've\": \"they shall have / they will have\",\n",
    "                \"they're\": \"they are\",\n",
    "                \"they've\": \"they have\",\n",
    "                \"to've\": \"to have\",\n",
    "                \"wasn't\": \"was not\",\n",
    "                \"we'd\": \"we had / we would\",\n",
    "                \"we'd've\": \"we would have\",\n",
    "                \"we'll\": \"we will\",\n",
    "                \"we'll've\": \"we will have\",\n",
    "                \"we're\": \"we are\",\n",
    "                \"we've\": \"we have\",\n",
    "                \"weren't\": \"were not\",\n",
    "                \"what'll\": \"what shall / what will\",\n",
    "                \"what'll've\": \"what shall have / what will have\",\n",
    "                \"what're\": \"what are\",\n",
    "                \"what's\": \"what has / what is\",\n",
    "                \"what've\": \"what have\",\n",
    "                \"when's\": \"when has / when is\",\n",
    "                \"when've\": \"when have\",\n",
    "                \"where'd\": \"where did\",\n",
    "                \"where's\": \"where has / where is\",\n",
    "                \"where've\": \"where have\",\n",
    "                \"who'll\": \"who shall / who will\",\n",
    "                \"who'll've\": \"who shall have / who will have\",\n",
    "                \"who's\": \"who has / who is\",\n",
    "                \"who've\": \"who have\",\n",
    "                \"why's\": \"why has / why is\",\n",
    "                \"why've\": \"why have\",\n",
    "                \"will've\": \"will have\",\n",
    "                \"won't\": \"will not\",\n",
    "                \"won't've\": \"will not have\",\n",
    "                \"would've\": \"would have\",\n",
    "                \"wouldn't\": \"would not\",\n",
    "                \"wouldn't've\": \"would not have\",\n",
    "                \"y'all\": \"you all\",\n",
    "                \"y'all'd\": \"you all would\",\n",
    "                \"y'all'd've\": \"you all would have\",\n",
    "                \"y'all're\": \"you all are\",\n",
    "                \"y'all've\": \"you all have\",\n",
    "                \"you'd\": \"you had / you would\",\n",
    "                \"you'd've\": \"you would have\",\n",
    "                \"you'll\": \"you shall / you will\",\n",
    "                \"you'll've\": \"you shall have / you will have\",\n",
    "                \"you're\": \"you are\",\n",
    "                \"you've\": \"you have\"\n",
    "    }\n",
    "    \n",
    "    # function to handle contractions\n",
    "    def expand_contractions(text, contractions_dict):\n",
    "        for contraction, expansion in contractions_dict.items():\n",
    "            text = text.replace(contraction, expansion)\n",
    "        return text\n",
    "    \n",
    "    \n",
    "    \n",
    "    # list to store preprocessed text\n",
    "    text_list = []\n",
    "\n",
    "    # iterate over each text in the 'str_information' column\n",
    "    for text in new_nlp_data['str_information']:\n",
    "        # convert text to lowercase\n",
    "        text = text.lower()\n",
    "    \n",
    "        # remove special characters except letters\n",
    "        text = re.sub(r'[^a-zA-Z\\s]', '', text)\n",
    "    \n",
    "        # expand contractions\n",
    "        text = expand_contractions(text, contractions)\n",
    "    \n",
    "        # tokenize the text\n",
    "        tokens = nltk.word_tokenize(text)\n",
    "    \n",
    "        # remove stopwords\n",
    "        tokens = [word for word in tokens if word not in set(stopwords.words(\"english\"))]\n",
    "    \n",
    "        # lemmatize the words\n",
    "        tokens = [lemma.lemmatize(word) for word in tokens]\n",
    "    \n",
    "        #join the lemmatized tokens back into a string\n",
    "        processed_text = \" \".join(tokens)\n",
    "    \n",
    "        # append the processed text to the list\n",
    "        text_list.append(processed_text)\n",
    "\n",
    "\n",
    "    new_nlp_data['str_information'] = text_list\n",
    "    new_nlp_data.duplicated(subset=['str_information']).sum()\n",
    "    \n",
    "    # removing all duplicated data  \n",
    "    new_nlp_data['str_information'] = new_nlp_data['str_information'].drop_duplicates()\n",
    "    new_nlp_data.fraudulent.value_counts(dropna = False)\n",
    "    \n",
    "    # word count in each row\n",
    "    editing_data = new_nlp_data\n",
    "    editing_data['word count'] = [len(str(i).split(' ')) for i in editing_data['str_information']]\n",
    "    \n",
    "    # max word length\n",
    "    max_length = editing_data['word count'].max()\n",
    "    \n",
    "    max_features = 10000\n",
    "    # create the tokenizer\n",
    "    token = Tokenizer(num_words = max_features)\n",
    "    # fit the tokenizer on the documents\n",
    "    token.fit_on_texts(text_list)\n",
    "    encoded_docs = token.texts_to_sequences(text_list)\n",
    "    joblib.dump(token, './tokinezer_file')\n",
    "\n",
    "    embedded_docs=pad_sequences(encoded_docs,padding='pre',maxlen=max_length)\n",
    "    pd.DataFrame(embedded_docs)\n",
    "    \n",
    "    return editing_data,embedded_docs\n"
   ]
  },
  {
   "cell_type": "code",
   "execution_count": 42,
   "metadata": {},
   "outputs": [
    {
     "data": {
      "text/plain": [
       "array([[   0,    0,    0, ...,  129,   20,  619],\n",
       "       [   0,    0,    0, ...,  536,   20,  251],\n",
       "       [   0,    0,    0, ..., 1970,   19, 1509],\n",
       "       ...,\n",
       "       [   0,    0,    0, ...,  456,  633, 2282],\n",
       "       [   0,    0,    0, ...,   49,  809,   23],\n",
       "       [   0,    0,    0, ...,   21,  108,   32]])"
      ]
     },
     "execution_count": 42,
     "metadata": {},
     "output_type": "execute_result"
    }
   ],
   "source": [
    "editing_data,embedded_docs = extract_feature(nlp_data)\n",
    "editing_data\n",
    "embedded_docs"
   ]
  },
  {
   "cell_type": "code",
   "execution_count": 43,
   "metadata": {},
   "outputs": [
    {
     "data": {
      "text/plain": [
       "array([0, 0, 0, ..., 0, 0, 0], dtype=int64)"
      ]
     },
     "execution_count": 43,
     "metadata": {},
     "output_type": "execute_result"
    }
   ],
   "source": [
    "# define the y \n",
    "y = editing_data['fraudulent'].values\n",
    "y"
   ]
  },
  {
   "cell_type": "code",
   "execution_count": 44,
   "metadata": {},
   "outputs": [
    {
     "data": {
      "text/plain": [
       "(17880, 1)"
      ]
     },
     "execution_count": 44,
     "metadata": {},
     "output_type": "execute_result"
    }
   ],
   "source": [
    "# reshape the y \n",
    "y = y.reshape(-1,1)\n",
    "y.shape"
   ]
  },
  {
   "cell_type": "code",
   "execution_count": 45,
   "metadata": {},
   "outputs": [
    {
     "data": {
      "text/plain": [
       "(17880, 1386)"
      ]
     },
     "execution_count": 45,
     "metadata": {},
     "output_type": "execute_result"
    }
   ],
   "source": [
    "#reshape the x\n",
    "x = np.array(embedded_docs)\n",
    "x.shape"
   ]
  },
  {
   "cell_type": "code",
   "execution_count": 46,
   "metadata": {},
   "outputs": [
    {
     "name": "stdout",
     "output_type": "stream",
     "text": [
      "X_train shape:  (15198, 1386)\n",
      "X_test shape :  (2682, 1386)\n",
      "y_train shape:  (15198, 1)\n",
      "y_test shape :  (2682, 1)\n"
     ]
    }
   ],
   "source": [
    "#splite and train the data\n",
    "x_train, x_test, y_train, y_test = train_test_split(x, y, test_size= 0.15, random_state= 101)\n",
    "print(\"X_train shape: \",x_train.shape)\n",
    "print(\"X_test shape : \",x_test.shape )\n",
    "print(\"y_train shape: \",y_train.shape)\n",
    "print(\"y_test shape : \",y_test.shape)"
   ]
  },
  {
   "cell_type": "code",
   "execution_count": 49,
   "metadata": {},
   "outputs": [
    {
     "name": "stdout",
     "output_type": "stream",
     "text": [
      "Epoch 1/100\n",
      "\u001b[1m475/475\u001b[0m \u001b[32m━━━━━━━━━━━━━━━━━━━━\u001b[0m\u001b[37m\u001b[0m \u001b[1m4s\u001b[0m 7ms/step - accuracy: 0.9558 - loss: 0.1817 - val_accuracy: 0.9814 - val_loss: 0.0651\n",
      "Epoch 2/100\n",
      "\u001b[1m475/475\u001b[0m \u001b[32m━━━━━━━━━━━━━━━━━━━━\u001b[0m\u001b[37m\u001b[0m \u001b[1m3s\u001b[0m 6ms/step - accuracy: 0.9896 - loss: 0.0346 - val_accuracy: 0.9847 - val_loss: 0.0517\n",
      "Epoch 3/100\n",
      "\u001b[1m475/475\u001b[0m \u001b[32m━━━━━━━━━━━━━━━━━━━━\u001b[0m\u001b[37m\u001b[0m \u001b[1m3s\u001b[0m 6ms/step - accuracy: 0.9985 - loss: 0.0097 - val_accuracy: 0.9855 - val_loss: 0.0553\n",
      "Epoch 4/100\n",
      "\u001b[1m475/475\u001b[0m \u001b[32m━━━━━━━━━━━━━━━━━━━━\u001b[0m\u001b[37m\u001b[0m \u001b[1m3s\u001b[0m 6ms/step - accuracy: 0.9998 - loss: 0.0032 - val_accuracy: 0.9828 - val_loss: 0.0658\n",
      "Epoch 5/100\n",
      "\u001b[1m475/475\u001b[0m \u001b[32m━━━━━━━━━━━━━━━━━━━━\u001b[0m\u001b[37m\u001b[0m \u001b[1m3s\u001b[0m 6ms/step - accuracy: 0.9997 - loss: 0.0024 - val_accuracy: 0.9858 - val_loss: 0.0627\n",
      "Epoch 6/100\n",
      "\u001b[1m475/475\u001b[0m \u001b[32m━━━━━━━━━━━━━━━━━━━━\u001b[0m\u001b[37m\u001b[0m \u001b[1m3s\u001b[0m 6ms/step - accuracy: 1.0000 - loss: 0.0011 - val_accuracy: 0.9858 - val_loss: 0.0650\n",
      "Epoch 7/100\n",
      "\u001b[1m475/475\u001b[0m \u001b[32m━━━━━━━━━━━━━━━━━━━━\u001b[0m\u001b[37m\u001b[0m \u001b[1m3s\u001b[0m 6ms/step - accuracy: 1.0000 - loss: 6.7553e-04 - val_accuracy: 0.9836 - val_loss: 0.0834\n",
      "Epoch 8/100\n",
      "\u001b[1m475/475\u001b[0m \u001b[32m━━━━━━━━━━━━━━━━━━━━\u001b[0m\u001b[37m\u001b[0m \u001b[1m3s\u001b[0m 6ms/step - accuracy: 1.0000 - loss: 4.6301e-04 - val_accuracy: 0.9847 - val_loss: 0.0707\n",
      "Epoch 9/100\n",
      "\u001b[1m475/475\u001b[0m \u001b[32m━━━━━━━━━━━━━━━━━━━━\u001b[0m\u001b[37m\u001b[0m \u001b[1m3s\u001b[0m 6ms/step - accuracy: 1.0000 - loss: 2.6946e-04 - val_accuracy: 0.9847 - val_loss: 0.0851\n",
      "Epoch 10/100\n",
      "\u001b[1m475/475\u001b[0m \u001b[32m━━━━━━━━━━━━━━━━━━━━\u001b[0m\u001b[37m\u001b[0m \u001b[1m3s\u001b[0m 6ms/step - accuracy: 1.0000 - loss: 2.3150e-04 - val_accuracy: 0.9855 - val_loss: 0.0825\n",
      "Epoch 11/100\n",
      "\u001b[1m475/475\u001b[0m \u001b[32m━━━━━━━━━━━━━━━━━━━━\u001b[0m\u001b[37m\u001b[0m \u001b[1m3s\u001b[0m 6ms/step - accuracy: 1.0000 - loss: 1.5271e-04 - val_accuracy: 0.9858 - val_loss: 0.0838\n",
      "Epoch 12/100\n",
      "\u001b[1m475/475\u001b[0m \u001b[32m━━━━━━━━━━━━━━━━━━━━\u001b[0m\u001b[37m\u001b[0m \u001b[1m3s\u001b[0m 7ms/step - accuracy: 1.0000 - loss: 8.9301e-05 - val_accuracy: 0.9851 - val_loss: 0.0767\n",
      "Epoch 13/100\n",
      "\u001b[1m475/475\u001b[0m \u001b[32m━━━━━━━━━━━━━━━━━━━━\u001b[0m\u001b[37m\u001b[0m \u001b[1m3s\u001b[0m 7ms/step - accuracy: 1.0000 - loss: 7.2739e-05 - val_accuracy: 0.9851 - val_loss: 0.0779\n",
      "Epoch 14/100\n",
      "\u001b[1m475/475\u001b[0m \u001b[32m━━━━━━━━━━━━━━━━━━━━\u001b[0m\u001b[37m\u001b[0m \u001b[1m3s\u001b[0m 7ms/step - accuracy: 1.0000 - loss: 6.9117e-05 - val_accuracy: 0.9855 - val_loss: 0.0881\n",
      "Epoch 15/100\n",
      "\u001b[1m475/475\u001b[0m \u001b[32m━━━━━━━━━━━━━━━━━━━━\u001b[0m\u001b[37m\u001b[0m \u001b[1m3s\u001b[0m 6ms/step - accuracy: 1.0000 - loss: 4.0489e-05 - val_accuracy: 0.9836 - val_loss: 0.1038\n",
      "\u001b[1m84/84\u001b[0m \u001b[32m━━━━━━━━━━━━━━━━━━━━\u001b[0m\u001b[37m\u001b[0m \u001b[1m0s\u001b[0m 2ms/step\n",
      "\u001b[1m84/84\u001b[0m \u001b[32m━━━━━━━━━━━━━━━━━━━━\u001b[0m\u001b[37m\u001b[0m \u001b[1m0s\u001b[0m 1ms/step - accuracy: 0.9857 - loss: 0.0660\n",
      "Model loss is :  0.06271150708198547\n",
      "Model Accuracy is :  0.9858314394950867\n",
      "\n",
      "\n",
      "\n",
      "\n"
     ]
    },
    {
     "data": {
      "image/png": "[encoded data removed]",
      "text/plain": [
       "<Figure size 640x480 with 1 Axes>"
      ]
     },
     "metadata": {},
     "output_type": "display_data"
    }
   ],
   "source": [
    "import keras\n",
    "from keras.layers import Flatten\n",
    "\n",
    "max_features = 10000\n",
    "max_length = editing_data['word count'].max()\n",
    "nn_model = keras.Sequential()\n",
    "embedding_vector_features = 40\n",
    "nn_model.add(Embedding(max_features, embedding_vector_features, input_length=max_length))\n",
    "nn_model.add(Flatten())  # Add a Flatten layer here\n",
    "nn_model.add(Dense(1, activation='sigmoid'))\n",
    "\n",
    "nn_model.compile(optimizer='adam', loss='binary_crossentropy', metrics=['accuracy'])\n",
    "\n",
    "#define the early stop\n",
    "early_stopping = tf.keras.callbacks.EarlyStopping(\n",
    "    patience=10,\n",
    "    monitor='val_accuracy',\n",
    "    restore_best_weights=True\n",
    ")\n",
    "\n",
    "history = nn_model.fit(\n",
    "    x_train, y_train,\n",
    "    validation_data=(x_test, y_test),\n",
    "    epochs=100,\n",
    "    batch_size=32,\n",
    "    verbose=1,\n",
    "    callbacks=[early_stopping]\n",
    ")\n",
    "\n",
    "\n",
    "# show loss function and accuracy of the model\n",
    "y_predict = nn_model.predict(x_test)\n",
    "model_loss,model_accuracy=nn_model.evaluate(x_test,y_test)\n",
    "print(\"Model loss is : \",model_loss)\n",
    "print(\"Model Accuracy is : \",model_accuracy)\n",
    "print(\"\\n\\n\\n\")\n",
    "\n",
    "\n",
    "# plot the function  \n",
    "plt.plot(history.history['accuracy'])\n",
    "plt.plot(history.history['val_accuracy'])\n",
    "plt.title('Model accuracy')\n",
    "plt.ylabel('Accuracy')\n",
    "plt.xlabel('Epoch')\n",
    "plt.legend(['Train', 'Test'], loc='upper left')\n",
    "plt.show()"
   ]
  },
  {
   "cell_type": "code",
   "execution_count": 52,
   "metadata": {},
   "outputs": [
    {
     "name": "stdout",
     "output_type": "stream",
     "text": [
      "Model Accuracy is: 0.9429530201342282\n"
     ]
    }
   ],
   "source": [
    "from sklearn.tree import DecisionTreeClassifier\n",
    "\n",
    "# decision tree classifier model\n",
    "decision_tree_classifier = DecisionTreeClassifier(random_state=101)\n",
    "decision_tree_classifier.fit(x_train, y_train)\n",
    "\n",
    "# predict on the testing set\n",
    "y_pred = decision_tree_classifier.predict(x_test)\n",
    "\n",
    "# calculate accuracy\n",
    "model_accuracy = accuracy_score(y_test, y_pred)\n",
    "\n",
    "print(\"Model Accuracy is:\", model_accuracy)"
   ]
  },
  {
   "cell_type": "code",
   "execution_count": 53,
   "metadata": {},
   "outputs": [
    {
     "name": "stdout",
     "output_type": "stream",
     "text": [
      "Naive Bayes Accuracy: 0.07009694258016405\n"
     ]
    }
   ],
   "source": [
    "from sklearn.naive_bayes import GaussianNB\n",
    "# the Naive Bayes classifier\n",
    "naive_bayes_classifier = GaussianNB()\n",
    "naive_bayes_classifier.fit(x_train, y_train)\n",
    "\n",
    "# predict on the testing set\n",
    "y_pred = naive_bayes_classifier.predict(x_test)\n",
    "\n",
    "# calculate accuracy\n",
    "model_accuracy = accuracy_score(y_test, y_pred)\n",
    "print(\"Naive Bayes Accuracy:\", model_accuracy)"
   ]
  },
  {
   "cell_type": "code",
   "execution_count": 54,
   "metadata": {},
   "outputs": [
    {
     "name": "stdout",
     "output_type": "stream",
     "text": [
      "Logistic Regression Accuracy: 0.9500372856077554\n"
     ]
    }
   ],
   "source": [
    "from sklearn.linear_model import LogisticRegression\n",
    "\n",
    "# initialize and train the Logistic Regression classifier\n",
    "logistic_regression_classifier = LogisticRegression(random_state=101)\n",
    "logistic_regression_classifier.fit(x_train, y_train)\n",
    "\n",
    "# predict on the testing set\n",
    "y_pred = logistic_regression_classifier.predict(x_test)\n",
    "\n",
    "# calculate accuracy\n",
    "model_accuracy = accuracy_score(y_test, y_pred)\n",
    "print(\"Logistic Regression Accuracy:\", model_accuracy)"
   ]
  },
  {
   "cell_type": "code",
   "execution_count": 55,
   "metadata": {},
   "outputs": [
    {
     "name": "stdout",
     "output_type": "stream",
     "text": [
      "KNN Accuracy: 0.9571215510812826\n"
     ]
    }
   ],
   "source": [
    "from sklearn.neighbors import KNeighborsClassifier\n",
    "\n",
    "# the KNN classifier\n",
    "knn_classifier = KNeighborsClassifier()\n",
    "knn_classifier.fit(x_train, y_train)\n",
    "\n",
    "# predict on the testing set\n",
    "y_pred = knn_classifier.predict(x_test)\n",
    "\n",
    "# calculate accuracy\n",
    "model_accuracy = accuracy_score(y_test, y_pred)\n",
    "print(\"KNN Accuracy:\", model_accuracy)\n",
    "\n",
    "\n"
   ]
  },
  {
   "cell_type": "code",
   "execution_count": 56,
   "metadata": {},
   "outputs": [
    {
     "name": "stdout",
     "output_type": "stream",
     "text": [
      "Random Forest Classifier Accuracy: 0.9679343773303505\n"
     ]
    }
   ],
   "source": [
    "# create and train the Random Forest Classifier\n",
    "random_forest_classifier = RandomForestClassifier(random_state=101)\n",
    "random_forest_classifier.fit(x_train, y_train)\n",
    "\n",
    "# predict on the testing set\n",
    "y_pred = random_forest_classifier.predict(x_test)\n",
    "\n",
    "# calculate accuracy\n",
    "model_accuracy = accuracy_score(y_test, y_pred)\n",
    "print(\"Random Forest Classifier Accuracy:\", model_accuracy)"
   ]
  },
  {
   "cell_type": "code",
   "execution_count": 57,
   "metadata": {},
   "outputs": [],
   "source": [
    "def predict_sample(sample):\n",
    "    # predict with the neural network model\n",
    "    nn_prediction = nn_model.predict(sample)\n",
    "    nn_class = \"Positive\" if nn_prediction >= 0.5 else \"Negative\"\n",
    "    print(\"Neural Network Prediction:\", nn_class)\n",
    "    \n",
    "    # predict with Decision Tree Classifier\n",
    "    dt_prediction = decision_tree_classifier.predict(sample)\n",
    "    dt_class = \"Positive\" if dt_prediction == 1 else \"Negative\"\n",
    "    print(\"Decision Tree Prediction:\", dt_class)\n",
    "    \n",
    "    # predict with Naive Bayes Classifier\n",
    "    nb_prediction = naive_bayes_classifier.predict(sample)\n",
    "    nb_class = \"Positive\" if nb_prediction == 1 else \"Negative\"\n",
    "    print(\"Naive Bayes Prediction:\", nb_class)\n",
    "    \n",
    "    # predict with Logistic Regression Classifier\n",
    "    lr_prediction = logistic_regression_classifier.predict(sample)\n",
    "    lr_class = \"Positive\" if lr_prediction == 1 else \"Negative\"\n",
    "    print(\"Logistic Regression Prediction:\", lr_class)\n",
    "    \n",
    "    # predict with KNN Classifier\n",
    "    knn_prediction = knn_classifier.predict(sample)\n",
    "    knn_class = \"Positive\" if knn_prediction == 1 else \"Negative\"\n",
    "    print(\"KNN Prediction:\", knn_class)\n",
    "    \n",
    "    # predict with rf Classifier\n",
    "    svm_prediction = random_forest_classifier.predict(sample)\n",
    "    svm_class = \"Positive\" if svm_prediction == 1 else \"Negative\"\n",
    "    print(\"SVM Prediction:\", svm_class)\n"
   ]
  },
  {
   "cell_type": "code",
   "execution_count": 63,
   "metadata": {},
   "outputs": [
    {
     "name": "stdout",
     "output_type": "stream",
     "text": [
      "\u001b[1m1/1\u001b[0m \u001b[32m━━━━━━━━━━━━━━━━━━━━\u001b[0m\u001b[37m\u001b[0m \u001b[1m0s\u001b[0m 18ms/step\n",
      "Neural Network Prediction: Negative\n",
      "Decision Tree Prediction: Negative\n",
      "Naive Bayes Prediction: Positive\n",
      "Logistic Regression Prediction: Negative\n",
      "KNN Prediction: Negative\n",
      "SVM Prediction: Negative\n"
     ]
    }
   ],
   "source": [
    "sample = embedded_docs[0]\n",
    "predict_sample(sample.reshape(1, -1))"
   ]
  },
  {
   "cell_type": "code",
   "execution_count": 66,
   "metadata": {},
   "outputs": [
    {
     "name": "stdout",
     "output_type": "stream",
     "text": [
      "\u001b[1m84/84\u001b[0m \u001b[32m━━━━━━━━━━━━━━━━━━━━\u001b[0m\u001b[37m\u001b[0m \u001b[1m0s\u001b[0m 2ms/step\n",
      "Neural Network Classification Report:\n",
      "               precision    recall  f1-score   support\n",
      "\n",
      "           0       0.99      1.00      0.99      2559\n",
      "           1       0.95      0.73      0.83       123\n",
      "\n",
      "    accuracy                           0.99      2682\n",
      "   macro avg       0.97      0.86      0.91      2682\n",
      "weighted avg       0.99      0.99      0.98      2682\n",
      "\n",
      "Decision Tree Classifier Classification Report:\n",
      "               precision    recall  f1-score   support\n",
      "\n",
      "           0       0.97      0.97      0.97      2559\n",
      "           1       0.40      0.46      0.43       123\n",
      "\n",
      "    accuracy                           0.94      2682\n",
      "   macro avg       0.68      0.71      0.70      2682\n",
      "weighted avg       0.95      0.94      0.95      2682\n",
      "\n",
      "Naive Bayes Classifier Classification Report:\n",
      "               precision    recall  f1-score   support\n",
      "\n",
      "           0       0.96      0.03      0.05      2559\n",
      "           1       0.05      0.98      0.09       123\n",
      "\n",
      "    accuracy                           0.07      2682\n",
      "   macro avg       0.50      0.50      0.07      2682\n",
      "weighted avg       0.92      0.07      0.05      2682\n",
      "\n",
      "Logistic Regression Classifier Classification Report:\n",
      "               precision    recall  f1-score   support\n",
      "\n",
      "           0       0.96      0.99      0.97      2559\n",
      "           1       0.32      0.08      0.13       123\n",
      "\n",
      "    accuracy                           0.95      2682\n",
      "   macro avg       0.64      0.54      0.55      2682\n",
      "weighted avg       0.93      0.95      0.94      2682\n",
      "\n",
      "KNN Classifier Classification Report:\n",
      "               precision    recall  f1-score   support\n",
      "\n",
      "           0       0.96      0.99      0.98      2559\n",
      "           1       0.59      0.22      0.32       123\n",
      "\n",
      "    accuracy                           0.96      2682\n",
      "   macro avg       0.78      0.61      0.65      2682\n",
      "weighted avg       0.95      0.96      0.95      2682\n",
      "\n",
      "Random Forest Classifier Classification Report:\n",
      "               precision    recall  f1-score   support\n",
      "\n",
      "           0       0.97      1.00      0.98      2559\n",
      "           1       1.00      0.30      0.46       123\n",
      "\n",
      "    accuracy                           0.97      2682\n",
      "   macro avg       0.98      0.65      0.72      2682\n",
      "weighted avg       0.97      0.97      0.96      2682\n",
      "\n"
     ]
    }
   ],
   "source": [
    "from sklearn.metrics import classification_report\n",
    "\n",
    "# set the threshold for predictions\n",
    "threshold = 0.5\n",
    "\n",
    "# convert continuous predictions to binary labels\n",
    "nn_predictions_binary = (nn_model.predict(x_test) >= threshold).astype(int)\n",
    "dt_predictions_binary = decision_tree_classifier.predict(x_test)\n",
    "nb_predictions_binary = naive_bayes_classifier.predict(x_test)\n",
    "lr_predictions_binary = logistic_regression_classifier.predict(x_test)\n",
    "knn_predictions_binary = knn_classifier.predict(x_test)\n",
    "svm_predictions_binary = random_forest_classifier.predict(x_test)\n",
    "\n",
    "# neural Network classification report\n",
    "nn_report = classification_report(y_test, nn_predictions_binary)\n",
    "print(\"Neural Network Classification Report:\\n\", nn_report)\n",
    "\n",
    "# decision Tree Classifier classification report\n",
    "dt_report = classification_report(y_test, dt_predictions_binary)\n",
    "print(\"Decision Tree Classifier Classification Report:\\n\", dt_report)\n",
    "\n",
    "# naive Bayes Classifier classification report\n",
    "nb_report = classification_report(y_test, nb_predictions_binary)\n",
    "print(\"Naive Bayes Classifier Classification Report:\\n\", nb_report)\n",
    "\n",
    "# logistic Regression Classifier classification report\n",
    "lr_report = classification_report(y_test, lr_predictions_binary)\n",
    "print(\"Logistic Regression Classifier Classification Report:\\n\", lr_report)\n",
    "\n",
    "# kNN Classifier classification report\n",
    "knn_report = classification_report(y_test, knn_predictions_binary)\n",
    "print(\"KNN Classifier Classification Report:\\n\", knn_report)\n",
    "\n",
    "# random Forest Classifier classification report\n",
    "svm_report = classification_report(y_test, svm_predictions_binary)\n",
    "print(\"Random Forest Classifier Classification Report:\\n\", svm_report)\n"
   ]
  }
 ],
 "metadata": {
  "kernelspec": {
   "display_name": "Python 3",
   "language": "python",
   "name": "python3"
  },
  "language_info": {
   "codemirror_mode": {
    "name": "ipython",
    "version": 3
   },
   "file_extension": ".py",
   "mimetype": "text/x-python",
   "name": "python",
   "nbconvert_exporter": "python",
   "pygments_lexer": "ipython3",
   "version": "3.12.3"
  }
 },
 "nbformat": 4,
 "nbformat_minor": 2
}
